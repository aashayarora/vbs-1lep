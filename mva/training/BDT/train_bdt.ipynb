{
 "cells": [
  {
   "cell_type": "code",
   "execution_count": 1,
   "metadata": {},
   "outputs": [],
   "source": [
    "import ROOT as r\n",
    "r.EnableImplicitMT()\n",
    "\n",
    "from xgboost import XGBClassifier, plot_importance\n",
    "import numpy as np\n",
    "import pandas as pd\n",
    "\n",
    "from sklearn.metrics import roc_curve, auc\n",
    "from sklearn.model_selection import train_test_split\n",
    "\n",
    "import hist\n",
    "from matplotlib import pyplot as plt\n",
    "import mplhep as hep\n",
    "hep.style.use(hep.style.CMS)"
   ]
  },
  {
   "cell_type": "code",
   "execution_count": 2,
   "metadata": {},
   "outputs": [],
   "source": [
    "def load_data(signal_filename, background_filename):\n",
    "    variables = [\"VBSjet1pt\", \"VBSjet1eta\", \"VBSjet1phi\", \"VBSjet2pt\", \"VBSjet2eta\", \"VBSjet2phi\", \"VBSMjj\", \"VBSdetajj\", \"weight\"]\n",
    "\n",
    "    def pddf(filename, variables):\n",
    "        data = r.RDataFrame(\"Events\", filename).Filter(\"weight > 0\").Filter(\"passCut9\").AsNumpy(variables)\n",
    "        return pd.DataFrame(data)\n",
    "    \n",
    "    x_sig = pddf(signal_filename, variables)\n",
    "    x_bkg = pddf(background_filename, variables)\n",
    "\n",
    "    x_sig[\"weight\"] = x_sig[\"weight\"] / max(x_sig[\"weight\"])\n",
    "    x_bkg[\"weight\"] = x_bkg[\"weight\"] / max(x_bkg[\"weight\"])\n",
    "\n",
    "    x_sig[\"label\"] = 1\n",
    "    x_bkg[\"label\"] = 0\n",
    "\n",
    "    df = pd.concat([x_sig, x_bkg], ignore_index=True)\n",
    "    df = df.sample(frac=1).reset_index(drop=True)\n",
    "\n",
    "    return df"
   ]
  },
  {
   "cell_type": "code",
   "execution_count": null,
   "metadata": {},
   "outputs": [],
   "source": [
    "df = load_data(\"/data/userdata/aaarora/output/run2/sig.root\", \"/data/userdata/aaarora/output/run2/bkg.root\")\n",
    "\n",
    "X = df.drop(columns=[\"label\", \"weight\"]).to_numpy()\n",
    "y = df[\"label\"].to_numpy()\n",
    "w = df[\"weight\"].to_numpy()"
   ]
  },
  {
   "cell_type": "code",
   "execution_count": null,
   "metadata": {},
   "outputs": [],
   "source": [
    "X_train, X_test, y_train, y_test, w_train, w_test = train_test_split(X, y, w, test_size=0.2, random_state=42)"
   ]
  },
  {
   "cell_type": "code",
   "execution_count": 4,
   "metadata": {},
   "outputs": [],
   "source": [
    "params = {\n",
    "    \"objective\": \"binary:logistic\",\n",
    "    \"eval_metric\": \"auc\",\n",
    "    \"tree_method\": \"exact\",\n",
    "    \"n_estimators\": 200,\n",
    "    \"max_depth\": 10,\n",
    "    \"min_child_weight\": 1,\n",
    "    \"colsample_bytree\": 1,\n",
    "    \"colsample_bylevel\": 1,\n",
    "    \"subsample\": 0.8,\n",
    "    \"learning_rate\": 0.1,\n",
    "    \"lambda\": 0.1,\n",
    "    \"alpha\": 0.1,\n",
    "    \"gamma\": 0,\n",
    "    \"nthread\": 128,\n",
    "}\n",
    "bdt = XGBClassifier(**params)"
   ]
  },
  {
   "cell_type": "code",
   "execution_count": null,
   "metadata": {},
   "outputs": [],
   "source": [
    "bdt.fit(X_train, y_train, sample_weight=w_train, eval_set=[(X_test, y_test)], verbose=True)"
   ]
  },
  {
   "cell_type": "code",
   "execution_count": 6,
   "metadata": {},
   "outputs": [],
   "source": [
    "y_pred = bdt.predict_proba(X_test)[:, 1]"
   ]
  },
  {
   "cell_type": "code",
   "execution_count": 7,
   "metadata": {},
   "outputs": [],
   "source": [
    "false_positive_rate, true_positive_rate, _ = roc_curve(y_test, y_pred)\n",
    "score = auc(false_positive_rate, true_positive_rate)"
   ]
  },
  {
   "cell_type": "code",
   "execution_count": null,
   "metadata": {},
   "outputs": [],
   "source": [
    "fig, ax = plt.subplots()\n",
    "ax.plot(false_positive_rate, true_positive_rate, label='ROC curve (area = %0.2f)' % score)\n",
    "ax.plot([0, 1], [0, 1], 'k--')\n",
    "ax.set_xlim([0.0, 1.0])\n",
    "ax.set_ylim([0.0, 1.05])\n",
    "ax.set_xlabel('False Positive Rate')\n",
    "ax.set_ylabel('True Positive Rate')\n",
    "ax.set_title(\"ROC After Hbb and Vqq Score Cuts\")\n",
    "ax.legend()\n",
    "\n",
    "plt.savefig(\"/home/users/aaarora/public_html/vbs/plots/bdt-9-19-24/roc-curve-after-cut.png\")"
   ]
  },
  {
   "cell_type": "code",
   "execution_count": null,
   "metadata": {},
   "outputs": [],
   "source": [
    "plot_importance(bdt, max_num_features=None)"
   ]
  },
  {
   "cell_type": "code",
   "execution_count": 10,
   "metadata": {},
   "outputs": [],
   "source": [
    "r.TMVA.Experimental.SaveXGBoost(bdt, \"VBSBDT\", \"BDT_Weights.root\", num_inputs=X.shape[1])"
   ]
  },
  {
   "cell_type": "markdown",
   "metadata": {},
   "source": [
    "# Validation"
   ]
  },
  {
   "cell_type": "code",
   "execution_count": 11,
   "metadata": {},
   "outputs": [],
   "source": [
    "bdt = r.TMVA.Experimental.RBDT(\"VBSBDT\", \"/home/users/aaarora/phys/analysis/vbs-1lep/training/BDT/BDT_Weights.root\")"
   ]
  },
  {
   "cell_type": "code",
   "execution_count": null,
   "metadata": {},
   "outputs": [],
   "source": [
    "h1 = hist.Hist.new.Reg(50, 0, 1, name=\"SIG\", label=\"SIG\").Double()\n",
    "h1.fill(bdt.Compute(X[y==1]).flatten(), weight=w[y==1])\n",
    "\n",
    "h2 = hist.Hist.new.Reg(50, 0, 1, name=\"BKG\", label=\"BKG\").Double()\n",
    "h2.fill(bdt.Compute(X[y==0]).flatten(), weight=w[y==0])\n",
    "\n",
    "fig, ax = plt.subplots()\n",
    "hep.histplot(h1, ax=ax, label=\"Signal\", color=\"red\", density=True)\n",
    "hep.histplot(h2, ax=ax, label=\"Background\", color=\"blue\", density=True)\n",
    "\n",
    "ax.legend()\n",
    "ax.set_xlabel(\"VBSBDT Score\")\n",
    "ax.set_ylabel(\"Density\")\n",
    "ax.set_title(\"Sig vs Bkg BDT Score Distribution After Cuts\")\n",
    "\n",
    "plt.savefig(\"/home/users/aaarora/public_html/vbs/plots/bdt-9-19-24/score-dists-after-cut.png\")"
   ]
  }
 ],
 "metadata": {
  "kernelspec": {
   "display_name": "hep",
   "language": "python",
   "name": "python3"
  },
  "language_info": {
   "codemirror_mode": {
    "name": "ipython",
    "version": 3
   },
   "file_extension": ".py",
   "mimetype": "text/x-python",
   "name": "python",
   "nbconvert_exporter": "python",
   "pygments_lexer": "ipython3",
   "version": "3.12.4"
  }
 },
 "nbformat": 4,
 "nbformat_minor": 2
}
