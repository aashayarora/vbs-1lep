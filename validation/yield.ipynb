{
 "cells": [
  {
   "cell_type": "markdown",
   "metadata": {},
   "source": [
    "# ABCD Yields"
   ]
  },
  {
   "cell_type": "code",
   "execution_count": 1,
   "metadata": {},
   "outputs": [],
   "source": [
    "import uproot\n",
    "import ROOT as r\n",
    "import numpy as np\n",
    "\n",
    "import matplotlib.pyplot as plt\n",
    "import mplhep as hep\n",
    "hep.style.use(hep.style.CMS)"
   ]
  },
  {
   "cell_type": "code",
   "execution_count": 2,
   "metadata": {},
   "outputs": [],
   "source": [
    "def get_abcd(file, tree=\"Events\"):\n",
    "    with uproot.open(file) as f:\n",
    "        df = f.get(tree).arrays(library=\"pd\")\n",
    "\n",
    "    return df\n",
    "\n",
    "    BDT_CUT = 0.56\n",
    "    DNN_CUT = 0.92\n",
    "\n",
    "    a = sum(df[(df.VBSBDTscore > BDT_CUT) & (df.abcdnet_score > DNN_CUT)].weight)\n",
    "    b = sum(df[(df.VBSBDTscore < BDT_CUT) & (df.abcdnet_score > DNN_CUT)].weight)\n",
    "    c = sum(df[(df.VBSBDTscore > BDT_CUT) & (df.abcdnet_score < DNN_CUT)].weight)\n",
    "    d = sum(df[(df.VBSBDTscore < BDT_CUT) & (df.abcdnet_score < DNN_CUT)].weight)\n",
    "\n",
    "    if \"data_MVA\" in file:\n",
    "        a = \"BLINDED\"\n",
    "\n",
    "    print(f\"Actual A: {a}\")\n",
    "    print(f\"Region B: {b}\")\n",
    "    print(f\"Region C: {c}\")\n",
    "    print(f\"Region D: {d}\")\n",
    "    print(f\"Predicted A: {b * c / d}\")\n",
    "\n",
    "    return a, b, c, d"
   ]
  },
  {
   "cell_type": "markdown",
   "metadata": {},
   "source": [
    "# DATA"
   ]
  },
  {
   "cell_type": "code",
   "execution_count": null,
   "metadata": {},
   "outputs": [],
   "source": [
    "data = get_abcd(\"/data/userdata/aaarora/output/run2/ABCDNet_simpleDisco_VBSVVH1lep_30/output/data_MVA_abcdnet.root\")"
   ]
  },
  {
   "cell_type": "code",
   "execution_count": null,
   "metadata": {},
   "outputs": [],
   "source": [
    "# df = r.RDataFrame(\"Events\", \"/data/userdata/aaarora/output/run2/ABCDNet_simpleDisco_VBSVVH1lep_30/output/data_MVA_abcdnet.root\")\n",
    "# hist = df.Histo2D((\"h\", \"2D histogram\", 5, 0, 1, 5, 0, 1), \"VBSBDTscore\", \"abcdnet_score\").GetValue()\n",
    "\n",
    "# h = uproot.from_pyroot(hist).to_hist()\n",
    "\n",
    "# fig, ax = plt.subplots()\n",
    "# hep.hist2dplot(h, cbar=True, ax=ax, norm=\"log\")\n",
    "# hep.histplot(h.profile(\"yaxis\"), ax=ax, histtype=\"errorbar\", color=\"red\")\n",
    "# ax.scatter(h.profile(\"xaxis\").to_numpy()[0], h.profile(\"xaxis\").to_numpy()[1][:-1] + 0.1, color=\"red\")\n",
    "\n",
    "\n",
    "# hep.cms.label(data=True, label=\"Preliminary\", lumi=138, year=\"Run2\", ax=ax)\n",
    "\n",
    "# ax.set_xlabel(\"VBS BDT Score\")\n",
    "# ax.set_ylabel(\"ABCDNet Score\")"
   ]
  },
  {
   "cell_type": "markdown",
   "metadata": {},
   "source": [
    "# SIG"
   ]
  },
  {
   "cell_type": "code",
   "execution_count": 6,
   "metadata": {},
   "outputs": [],
   "source": [
    "data = get_abcd(\"/data/userdata/aaarora/output/run2/ABCDNet_simpleDisco_VBSVVH1lep_30/output/sig_MVA_abcdnet.root\")"
   ]
  },
  {
   "cell_type": "code",
   "execution_count": null,
   "metadata": {},
   "outputs": [],
   "source": [
    "df = r.RDataFrame(\"Events\", \"/data/userdata/aaarora/output/run2/ABCDNet_simpleDisco_VBSVVH1lep_30/output/sig_MVA_abcdnet.root\")\n",
    "hist = df.Histo2D((\"h\", \"2D histogram\", 5, 0, 1, 5, 0, 1), \"VBSBDTscore\", \"abcdnet_score\").GetValue()\n",
    "\n",
    "h = uproot.from_pyroot(hist).to_hist()\n",
    "\n",
    "fig, ax = plt.subplots()\n",
    "hep.hist2dplot(h, cbar=True, ax=ax, norm=\"log\")\n",
    "hep.histplot(h.profile(\"yaxis\"), ax=ax, histtype=\"errorbar\", color=\"red\")\n",
    "ax.scatter(h.profile(\"xaxis\").to_numpy()[0], h.profile(\"xaxis\").to_numpy()[1][:-1] + 0.1, color=\"white\", marker=\"x\")\n",
    "\n",
    "\n",
    "hep.cms.label(data=True, label=\"Preliminary\", lumi=138, year=\"Run2\", ax=ax)\n",
    "\n",
    "ax.set_xlabel(\"VBS BDT Score\")\n",
    "ax.set_ylabel(\"ABCDNet Score\")"
   ]
  },
  {
   "cell_type": "code",
   "execution_count": 19,
   "metadata": {},
   "outputs": [],
   "source": [
    "data = get_abcd(\"/data/userdata/aaarora/output/run2/sig.root\")"
   ]
  },
  {
   "cell_type": "code",
   "execution_count": 32,
   "metadata": {},
   "outputs": [
    {
     "data": {
      "text/html": [
       "<div>\n",
       "<style scoped>\n",
       "    .dataframe tbody tr th:only-of-type {\n",
       "        vertical-align: middle;\n",
       "    }\n",
       "\n",
       "    .dataframe tbody tr th {\n",
       "        vertical-align: top;\n",
       "    }\n",
       "\n",
       "    .dataframe thead th {\n",
       "        text-align: right;\n",
       "    }\n",
       "</style>\n",
       "<table border=\"1\" class=\"dataframe\">\n",
       "  <thead>\n",
       "    <tr style=\"text-align: right;\">\n",
       "      <th></th>\n",
       "      <th>sample_year</th>\n",
       "      <th>particlenet_h_weight_2016preVFP</th>\n",
       "      <th>particlenet_w_weight_2016preVFP</th>\n",
       "      <th>btagging_scale_factors_LF</th>\n",
       "      <th>btagging_scale_factors_HF</th>\n",
       "    </tr>\n",
       "  </thead>\n",
       "  <tbody>\n",
       "    <tr>\n",
       "      <th>0</th>\n",
       "      <td>2017</td>\n",
       "      <td>[1.0 1.0 1.0]</td>\n",
       "      <td>[1.0 1.0 1.0]</td>\n",
       "      <td>[1.0 1.0 1.0]</td>\n",
       "      <td>[0.8628087043762207 0.9264590740203857 0.80042...</td>\n",
       "    </tr>\n",
       "    <tr>\n",
       "      <th>0</th>\n",
       "      <td>2017</td>\n",
       "      <td>[1.0 1.0 1.0]</td>\n",
       "      <td>[1.0 1.0 1.0]</td>\n",
       "      <td>[1.0 1.0 1.0]</td>\n",
       "      <td>[0.8628087043762207 0.9264590740203857 0.80042...</td>\n",
       "    </tr>\n",
       "    <tr>\n",
       "      <th>0</th>\n",
       "      <td>2017</td>\n",
       "      <td>[1.0 1.0 1.0]</td>\n",
       "      <td>[1.0 1.0 1.0]</td>\n",
       "      <td>[1.0 1.0 1.0]</td>\n",
       "      <td>[0.8628087043762207 0.9264590740203857 0.80042...</td>\n",
       "    </tr>\n",
       "    <tr>\n",
       "      <th>32</th>\n",
       "      <td>2017</td>\n",
       "      <td>[1.0 1.0 1.0]</td>\n",
       "      <td>[1.0 1.0 1.0]</td>\n",
       "      <td>[1.0 1.0 1.0]</td>\n",
       "      <td>[0.838512659072876 0.8570024371147156 0.820164...</td>\n",
       "    </tr>\n",
       "    <tr>\n",
       "      <th>32</th>\n",
       "      <td>2017</td>\n",
       "      <td>[1.0 1.0 1.0]</td>\n",
       "      <td>[1.0 1.0 1.0]</td>\n",
       "      <td>[1.0 1.0 1.0]</td>\n",
       "      <td>[0.838512659072876 0.8570024371147156 0.820164...</td>\n",
       "    </tr>\n",
       "    <tr>\n",
       "      <th>...</th>\n",
       "      <td>...</td>\n",
       "      <td>...</td>\n",
       "      <td>...</td>\n",
       "      <td>...</td>\n",
       "      <td>...</td>\n",
       "    </tr>\n",
       "    <tr>\n",
       "      <th>84549</th>\n",
       "      <td>2018</td>\n",
       "      <td>[1.0 1.0 1.0]</td>\n",
       "      <td>[1.0 1.0 1.0]</td>\n",
       "      <td>[1.0 1.0 1.0]</td>\n",
       "      <td>[0.9178869128227234 0.9436599016189575 0.89195...</td>\n",
       "    </tr>\n",
       "    <tr>\n",
       "      <th>84549</th>\n",
       "      <td>2018</td>\n",
       "      <td>[1.0 1.0 1.0]</td>\n",
       "      <td>[1.0 1.0 1.0]</td>\n",
       "      <td>[1.0 1.0 1.0]</td>\n",
       "      <td>[0.9178869128227234 0.9436599016189575 0.89195...</td>\n",
       "    </tr>\n",
       "    <tr>\n",
       "      <th>84552</th>\n",
       "      <td>2018</td>\n",
       "      <td>[1.0 1.0 1.0]</td>\n",
       "      <td>[1.0 1.0 1.0]</td>\n",
       "      <td>[1.0 1.0 1.0]</td>\n",
       "      <td>[0.9747257232666016 1.0432326793670654 0.90545...</td>\n",
       "    </tr>\n",
       "    <tr>\n",
       "      <th>84552</th>\n",
       "      <td>2018</td>\n",
       "      <td>[1.0 1.0 1.0]</td>\n",
       "      <td>[1.0 1.0 1.0]</td>\n",
       "      <td>[1.0 1.0 1.0]</td>\n",
       "      <td>[0.9747257232666016 1.0432326793670654 0.90545...</td>\n",
       "    </tr>\n",
       "    <tr>\n",
       "      <th>84552</th>\n",
       "      <td>2018</td>\n",
       "      <td>[1.0 1.0 1.0]</td>\n",
       "      <td>[1.0 1.0 1.0]</td>\n",
       "      <td>[1.0 1.0 1.0]</td>\n",
       "      <td>[0.9747257232666016 1.0432326793670654 0.90545...</td>\n",
       "    </tr>\n",
       "  </tbody>\n",
       "</table>\n",
       "<p>12936 rows × 5 columns</p>\n",
       "</div>"
      ],
      "text/plain": [
       "       sample_year  particlenet_h_weight_2016preVFP  \\\n",
       "0             2017                    [1.0 1.0 1.0]   \n",
       "0             2017                    [1.0 1.0 1.0]   \n",
       "0             2017                    [1.0 1.0 1.0]   \n",
       "32            2017                    [1.0 1.0 1.0]   \n",
       "32            2017                    [1.0 1.0 1.0]   \n",
       "...            ...                              ...   \n",
       "84549         2018                    [1.0 1.0 1.0]   \n",
       "84549         2018                    [1.0 1.0 1.0]   \n",
       "84552         2018                    [1.0 1.0 1.0]   \n",
       "84552         2018                    [1.0 1.0 1.0]   \n",
       "84552         2018                    [1.0 1.0 1.0]   \n",
       "\n",
       "       particlenet_w_weight_2016preVFP  btagging_scale_factors_LF  \\\n",
       "0                        [1.0 1.0 1.0]              [1.0 1.0 1.0]   \n",
       "0                        [1.0 1.0 1.0]              [1.0 1.0 1.0]   \n",
       "0                        [1.0 1.0 1.0]              [1.0 1.0 1.0]   \n",
       "32                       [1.0 1.0 1.0]              [1.0 1.0 1.0]   \n",
       "32                       [1.0 1.0 1.0]              [1.0 1.0 1.0]   \n",
       "...                                ...                        ...   \n",
       "84549                    [1.0 1.0 1.0]              [1.0 1.0 1.0]   \n",
       "84549                    [1.0 1.0 1.0]              [1.0 1.0 1.0]   \n",
       "84552                    [1.0 1.0 1.0]              [1.0 1.0 1.0]   \n",
       "84552                    [1.0 1.0 1.0]              [1.0 1.0 1.0]   \n",
       "84552                    [1.0 1.0 1.0]              [1.0 1.0 1.0]   \n",
       "\n",
       "                               btagging_scale_factors_HF  \n",
       "0      [0.8628087043762207 0.9264590740203857 0.80042...  \n",
       "0      [0.8628087043762207 0.9264590740203857 0.80042...  \n",
       "0      [0.8628087043762207 0.9264590740203857 0.80042...  \n",
       "32     [0.838512659072876 0.8570024371147156 0.820164...  \n",
       "32     [0.838512659072876 0.8570024371147156 0.820164...  \n",
       "...                                                  ...  \n",
       "84549  [0.9178869128227234 0.9436599016189575 0.89195...  \n",
       "84549  [0.9178869128227234 0.9436599016189575 0.89195...  \n",
       "84552  [0.9747257232666016 1.0432326793670654 0.90545...  \n",
       "84552  [0.9747257232666016 1.0432326793670654 0.90545...  \n",
       "84552  [0.9747257232666016 1.0432326793670654 0.90545...  \n",
       "\n",
       "[12936 rows x 5 columns]"
      ]
     },
     "execution_count": 32,
     "metadata": {},
     "output_type": "execute_result"
    }
   ],
   "source": [
    "data[[\"sample_year\", \"particlenet_h_weight_2016preVFP\", \"particlenet_w_weight_2016preVFP\", \"btagging_scale_factors_LF\", \"btagging_scale_factors_HF\"]][(data.btagging_scale_factors_HF != 1)]"
   ]
  },
  {
   "cell_type": "markdown",
   "metadata": {},
   "source": [
    "# BKG"
   ]
  },
  {
   "cell_type": "code",
   "execution_count": null,
   "metadata": {},
   "outputs": [],
   "source": [
    "data = get_abcd(\"/data/userdata/aaarora/output/run2/ABCDNet_simpleDisco_VBSVVH1lep_30/output/bkg_MVA_abcdnet.root\")"
   ]
  },
  {
   "cell_type": "code",
   "execution_count": null,
   "metadata": {},
   "outputs": [],
   "source": [
    "df = r.RDataFrame(\"Events\", \"/data/userdata/aaarora/output/run2/ABCDNet_simpleDisco_VBSVVH1lep_30/output/bkg_MVA_abcdnet.root\")\n",
    "hist = df.Histo2D((\"h\", \"2D histogram\", 5, 0, 1, 5, 0, 1), \"VBSBDTscore\", \"abcdnet_score\").GetValue()\n",
    "\n",
    "h = uproot.from_pyroot(hist).to_hist()\n",
    "\n",
    "fig, ax = plt.subplots()\n",
    "hep.hist2dplot(h, cbar=True, ax=ax, norm=\"log\")\n",
    "hep.histplot(h.profile(\"yaxis\"), ax=ax, histtype=\"errorbar\", color=\"red\")\n",
    "ax.scatter(h.profile(\"xaxis\").to_numpy()[0], h.profile(\"xaxis\").to_numpy()[1][:-1] + 0.1, color=\"white\", marker=\"x\")\n",
    "\n",
    "hep.cms.label(data=True, label=\"Preliminary\", lumi=138, year=\"Run2\", ax=ax)\n",
    "\n",
    "ax.set_xlabel(\"VBS BDT Score\")\n",
    "ax.set_ylabel(\"ABCDNet Score\")"
   ]
  },
  {
   "cell_type": "code",
   "execution_count": null,
   "metadata": {},
   "outputs": [],
   "source": [
    "with uproot.open(\"/data/userdata/aaarora/output/run2/ABCDNet_simpleDisco_VBSVVH1lep_30/output/sig_jec_bbec1_down_MVA_abcdnet.root\") as f:\n",
    "    df = f.get(\"Events\").arrays(library=\"pd\")"
   ]
  },
  {
   "cell_type": "code",
   "execution_count": null,
   "metadata": {},
   "outputs": [],
   "source": [
    "with uproot.open(\"/data/userdata/aaarora/output/run2/ABCDNet_simpleDisco_VBSVVH1lep_30/output/sig_MVA_abcdnet.root\") as f:\n",
    "    df_nom = f.get(\"Events\").arrays(library=\"pd\")"
   ]
  },
  {
   "cell_type": "code",
   "execution_count": null,
   "metadata": {},
   "outputs": [],
   "source": [
    "df[df.leptonpt == 455.163361]"
   ]
  },
  {
   "cell_type": "code",
   "execution_count": null,
   "metadata": {},
   "outputs": [],
   "source": [
    "df_nom[df_nom.leptonpt == 455.163361]"
   ]
  },
  {
   "cell_type": "code",
   "execution_count": null,
   "metadata": {},
   "outputs": [],
   "source": []
  }
 ],
 "metadata": {
  "kernelspec": {
   "display_name": "hep",
   "language": "python",
   "name": "python3"
  },
  "language_info": {
   "codemirror_mode": {
    "name": "ipython",
    "version": 3
   },
   "file_extension": ".py",
   "mimetype": "text/x-python",
   "name": "python",
   "nbconvert_exporter": "python",
   "pygments_lexer": "ipython3",
   "version": "3.12.4"
  }
 },
 "nbformat": 4,
 "nbformat_minor": 2
}
