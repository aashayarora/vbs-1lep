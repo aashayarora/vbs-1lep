{
 "cells": [
  {
   "cell_type": "markdown",
   "metadata": {},
   "source": [
    "# ABCD Yields"
   ]
  },
  {
   "cell_type": "code",
   "execution_count": 1,
   "metadata": {},
   "outputs": [],
   "source": [
    "import ROOT as r\n",
    "import pandas as pd\n",
    "import numpy as np"
   ]
  },
  {
   "cell_type": "code",
   "execution_count": 2,
   "metadata": {},
   "outputs": [],
   "source": [
    "def get_abcd(file, BDT_CUT, DNN_CUT):\n",
    "    rdf = r.RDataFrame(\"Events\", file)\n",
    "    df = pd.DataFrame(rdf.AsNumpy([\"weight\", \"VBSBDTscore\", \"abcdnet_score\", \"Hbbscore\", \"HighestWjetScore\"]))\n",
    "\n",
    "    HBB_CUT = 0.5\n",
    "    VQQ_CUT = 0.7 \n",
    "\n",
    "    df = df.query(\"Hbbscore > @HBB_CUT & HighestWjetScore > @VQQ_CUT\")\n",
    "\n",
    "    a = df.query(\"VBSBDTscore > @BDT_CUT & abcdnet_score > @DNN_CUT\").weight\n",
    "    b = df.query(\"VBSBDTscore > @BDT_CUT & abcdnet_score < @DNN_CUT\").weight\n",
    "    c = df.query(\"VBSBDTscore < @BDT_CUT & abcdnet_score > @DNN_CUT\").weight\n",
    "    d = df.query(\"VBSBDTscore < @BDT_CUT & abcdnet_score < @DNN_CUT\").weight\n",
    "\n",
    "    err_a = np.sqrt((a**2).sum())\n",
    "    err_b = np.sqrt((b**2).sum())\n",
    "    err_c = np.sqrt((c**2).sum())\n",
    "    err_d = np.sqrt((d**2).sum())\n",
    "\n",
    "    a = a.sum()\n",
    "    b = b.sum()\n",
    "    c = c.sum()\n",
    "    d = d.sum()\n",
    "\n",
    "    if \"data_MVA\" in file:\n",
    "        a = np.array(1)\n",
    "\n",
    "    print(f\"Actual A: {a} \\\\pm {err_a}\")\n",
    "    print(f\"Region B: {b} \\\\pm {err_b}\")\n",
    "    print(f\"Region C: {c} \\\\pm {err_c}\")\n",
    "    print(f\"Region D: {d} \\\\pm {err_d}\")\n",
    "\n",
    "    err_pwhite_a = np.sqrt((err_b * c / d) ** 2 + (err_c * b / d) ** 2 + ((b * c / d**2) * err_d) ** 2)\n",
    "\n",
    "    print(f\"Predicted A: {b * c / d} \\\\pm {err_pwhite_a}\")\n",
    "\n",
    "    return a, b, c, d"
   ]
  },
  {
   "cell_type": "markdown",
   "metadata": {},
   "source": [
    "# DATA"
   ]
  },
  {
   "cell_type": "code",
   "execution_count": 18,
   "metadata": {},
   "outputs": [
    {
     "name": "stdout",
     "output_type": "stream",
     "text": [
      "Actual A: 1 \\pm 0.0\n",
      "Region B: 62.0 \\pm 7.874007874011811\n",
      "Region C: 18.0 \\pm 4.242640687119285\n",
      "Region D: 1023.0 \\pm 31.984371183438952\n",
      "Predicted A: 1.0909090909090908 \\pm 0.29406446570036243\n"
     ]
    }
   ],
   "source": [
    "data = get_abcd(\"/data/userdata/aaarora/output/run2/data_MVA_test.root\", 0.92, 0.92)"
   ]
  },
  {
   "cell_type": "markdown",
   "metadata": {},
   "source": [
    "# SIG"
   ]
  },
  {
   "cell_type": "code",
   "execution_count": 19,
   "metadata": {},
   "outputs": [
    {
     "name": "stdout",
     "output_type": "stream",
     "text": [
      "Actual A: 3.7403575143823424 \\pm 0.025184301122123446\n",
      "Region B: 1.007409963695329 \\pm 0.01435830749449732\n",
      "Region C: 0.9248843347709418 \\pm 0.01309051327012634\n",
      "Region D: 0.5316841430162442 \\pm 0.010543500259494853\n",
      "Predicted A: 1.7524270873083125 \\pm 0.04946409684225818\n"
     ]
    }
   ],
   "source": [
    "sig = get_abcd(\"/data/userdata/aaarora/output/run2/sig_MVA_test.root\", 0.92, 0.92)"
   ]
  },
  {
   "cell_type": "markdown",
   "metadata": {},
   "source": [
    "# BKG"
   ]
  },
  {
   "cell_type": "code",
   "execution_count": 20,
   "metadata": {},
   "outputs": [
    {
     "name": "stdout",
     "output_type": "stream",
     "text": [
      "Actual A: 1.1911118952802233 \\pm 0.3042425076947078\n",
      "Region B: 59.095666535109714 \\pm 3.4334041371607897\n",
      "Region C: 18.07647297522063 \\pm 1.6587443971467315\n",
      "Region D: 965.5325179869376 \\pm 10.704935611653111\n",
      "Predicted A: 1.106375185894063 \\pm 0.12078660331565702\n"
     ]
    }
   ],
   "source": [
    "bkg = get_abcd(\"/data/userdata/aaarora/output/run2/bkg_MVA_test.root\", 0.92, 0.92)"
   ]
  },
  {
   "cell_type": "code",
   "execution_count": null,
   "metadata": {},
   "outputs": [],
   "source": []
  }
 ],
 "metadata": {
  "kernelspec": {
   "display_name": "hep",
   "language": "python",
   "name": "python3"
  },
  "language_info": {
   "codemirror_mode": {
    "name": "ipython",
    "version": 3
   },
   "file_extension": ".py",
   "mimetype": "text/x-python",
   "name": "python",
   "nbconvert_exporter": "python",
   "pygments_lexer": "ipython3",
   "version": "3.12.4"
  }
 },
 "nbformat": 4,
 "nbformat_minor": 2
}
