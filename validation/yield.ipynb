{
 "cells": [
  {
   "cell_type": "markdown",
   "metadata": {},
   "source": [
    "# ABCD Yields"
   ]
  },
  {
   "cell_type": "code",
   "execution_count": 1,
   "metadata": {},
   "outputs": [],
   "source": [
    "import ROOT as r\n",
    "import pandas as pd\n",
    "import numpy as np"
   ]
  },
  {
   "cell_type": "code",
   "execution_count": 6,
   "metadata": {},
   "outputs": [],
   "source": [
    "def get_abcd(file, BDT_CUT=0.56, DNN_CUT=0.92):\n",
    "    rdf = r.RDataFrame(\"Events\", file)\n",
    "    df = pd.DataFrame(rdf.AsNumpy([\"weight\", \"VBSBDTscore\", \"abcdnet_score\"]))\n",
    "\n",
    "    a = df.query(\"VBSBDTscore > @BDT_CUT & abcdnet_score > @DNN_CUT\").weight\n",
    "    b = df.query(\"VBSBDTscore > @BDT_CUT & abcdnet_score < @DNN_CUT\").weight\n",
    "    c = df.query(\"VBSBDTscore < @BDT_CUT & abcdnet_score > @DNN_CUT\").weight\n",
    "    d = df.query(\"VBSBDTscore < @BDT_CUT & abcdnet_score < @DNN_CUT\").weight\n",
    "\n",
    "    err_a = np.sqrt((a**2).sum())\n",
    "    err_b = np.sqrt((b**2).sum())\n",
    "    err_c = np.sqrt((c**2).sum())\n",
    "    err_d = np.sqrt((d**2).sum())\n",
    "\n",
    "    a = a.sum()\n",
    "    b = b.sum()\n",
    "    c = c.sum()\n",
    "    d = d.sum()\n",
    "\n",
    "    if \"data_MVA\" in file:\n",
    "        a = np.array(1)\n",
    "\n",
    "    print(f\"Actual A: {a} \\\\pm {err_a}\")\n",
    "    print(f\"Region B: {b} \\\\pm {err_b}\")\n",
    "    print(f\"Region C: {c} \\\\pm {err_c}\")\n",
    "    print(f\"Region D: {d} \\\\pm {err_d}\")\n",
    "\n",
    "    err_pwhite_a = np.sqrt((err_b * c / d) ** 2 + (err_c * b / d) ** 2 + ((b * c / d**2) * err_d) ** 2)\n",
    "\n",
    "    print(f\"Predicted A: {b * c / d} \\\\pm {err_pwhite_a}\")"
   ]
  },
  {
   "cell_type": "markdown",
   "metadata": {},
   "source": [
    "# Yields"
   ]
  },
  {
   "cell_type": "code",
   "execution_count": 3,
   "metadata": {},
   "outputs": [],
   "source": [
    "cuts = {\n",
    "    \"BDT_CUT\": 0.56,\n",
    "    \"DNN_CUT\": 0.92\n",
    "}"
   ]
  },
  {
   "cell_type": "code",
   "execution_count": 13,
   "metadata": {},
   "outputs": [
    {
     "name": "stdout",
     "output_type": "stream",
     "text": [
      "###### DATA #######\n",
      "###### MaxE #######\n",
      "Actual A: 3.651707521299207 \\pm 0.024828333321467416\n",
      "Region B: 1.16786955839924 \\pm 0.01533716805981005\n",
      "Region C: 0.8593609774220464 \\pm 0.012581330951505421\n",
      "Region D: 0.5358977092893433 \\pm 0.01127617799766611\n",
      "Predicted A: 1.8727856227232844 \\pm 0.05394000178326641\n",
      "###### MaxdEtajj #######\n",
      "Actual A: 3.6623603569213934 \\pm 0.024863616218143415\n",
      "Region B: 1.1759463857752719 \\pm 0.01541327340365896\n",
      "Region C: 0.8487081417998599 \\pm 0.012511459251025571\n",
      "Region D: 0.5278208819133114 \\pm 0.01117192540764421\n",
      "Predicted A: 1.8908597710454131 \\pm 0.05470834317430516\n"
     ]
    }
   ],
   "source": [
    "\n",
    "\n",
    "print(\"###### DATA #######\")\n",
    "data = get_abcd(\"/data/userdata/aaarora/output/run2/data_MVA_test.root\", **cuts)\n",
    "\n",
    "print(\"###### SIG #######\")\n",
    "sig = get_abcd(\"/data/userdata/aaarora/output/run2/sig_MVA.root\", **cuts)\n",
    "\n",
    "print(\"###### BKG #######\")\n",
    "bkg = get_abcd(\"/data/userdata/aaarora/output/run2/bkg_MVA.root\", **cuts)"
   ]
  }
 ],
 "metadata": {
  "kernelspec": {
   "display_name": "hep",
   "language": "python",
   "name": "python3"
  },
  "language_info": {
   "codemirror_mode": {
    "name": "ipython",
    "version": 3
   },
   "file_extension": ".py",
   "mimetype": "text/x-python",
   "name": "python",
   "nbconvert_exporter": "python",
   "pygments_lexer": "ipython3",
   "version": "3.12.4"
  }
 },
 "nbformat": 4,
 "nbformat_minor": 2
}
