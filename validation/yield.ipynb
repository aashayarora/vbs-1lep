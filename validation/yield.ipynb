{
 "cells": [
  {
   "cell_type": "markdown",
   "metadata": {},
   "source": [
    "# ABCD Yields"
   ]
  },
  {
   "cell_type": "code",
   "execution_count": 2,
   "metadata": {},
   "outputs": [],
   "source": [
    "import ROOT as r\n",
    "import pandas as pd\n",
    "import numpy as np"
   ]
  },
  {
   "cell_type": "code",
   "execution_count": 3,
   "metadata": {},
   "outputs": [],
   "source": [
    "def get_abcd(file, tree=\"Events\", BDT_CUT=0.56, DNN_CUT=0.92):\n",
    "    rdf = r.RDataFrame(tree, file)\n",
    "    df = pd.DataFrame(rdf.AsNumpy([\"weight\", \"VBSBDTscore\", \"abcdnet_score\"]))\n",
    "\n",
    "    a = df.query(\"VBSBDTscore > @BDT_CUT & abcdnet_score > @DNN_CUT\").weight\n",
    "    b = df.query(\"VBSBDTscore > @BDT_CUT & abcdnet_score < @DNN_CUT\").weight\n",
    "    c = df.query(\"VBSBDTscore < @BDT_CUT & abcdnet_score > @DNN_CUT\").weight\n",
    "    d = df.query(\"VBSBDTscore < @BDT_CUT & abcdnet_score < @DNN_CUT\").weight\n",
    "\n",
    "    err_a = np.sqrt((a**2).sum())\n",
    "    err_b = np.sqrt((b**2).sum())\n",
    "    err_c = np.sqrt((c**2).sum())\n",
    "    err_d = np.sqrt((d**2).sum())\n",
    "\n",
    "    a = a.sum()\n",
    "    b = b.sum()\n",
    "    c = c.sum()\n",
    "    d = d.sum()\n",
    "\n",
    "    if \"data_MVA\" in file:\n",
    "        a = np.array(1)\n",
    "\n",
    "    print(f\"Actual A: {a} \\\\pm {err_a}\")\n",
    "    print(f\"Region B: {b} \\\\pm {err_b}\")\n",
    "    print(f\"Region C: {c} \\\\pm {err_c}\")\n",
    "    print(f\"Region D: {d} \\\\pm {err_d}\")\n",
    "\n",
    "    err_pwhite_a = np.sqrt((err_b * c / d) ** 2 + (err_c * b / d) ** 2 + ((b * c / d**2) * err_d) ** 2)\n",
    "\n",
    "    print(f\"Predicted A: {b * c / d} \\\\pm {err_pwhite_a}\")\n",
    "\n",
    "    return a, b, c, d"
   ]
  },
  {
   "cell_type": "markdown",
   "metadata": {},
   "source": [
    "# DATA"
   ]
  },
  {
   "cell_type": "code",
   "execution_count": 8,
   "metadata": {},
   "outputs": [
    {
     "name": "stdout",
     "output_type": "stream",
     "text": [
      "Actual A: 1 \\pm 1.0\n",
      "Region B: 78.0 \\pm 8.831760866327848\n",
      "Region C: 11.0 \\pm 3.3166247903554\n",
      "Region D: 1013.0 \\pm 31.827660925679098\n",
      "Predicted A: 0.8469891411648569 \\pm 0.27408543816219094\n"
     ]
    }
   ],
   "source": [
    "data = get_abcd(\"/data/userdata/aaarora/output/run2/ABCDNet_simpleDisco_VBSVVH1lep_30/output/data_MVA_abcdnet.root\")"
   ]
  },
  {
   "cell_type": "code",
   "execution_count": 11,
   "metadata": {},
   "outputs": [
    {
     "name": "stdout",
     "output_type": "stream",
     "text": [
      "Actual A: 1 \\pm 6.48074069840786\n",
      "Region B: 37.0 \\pm 6.082762530298219\n",
      "Region C: 489.0 \\pm 22.11334438749598\n",
      "Region D: 535.0 \\pm 23.130067012440755\n",
      "Predicted A: 33.81869158878504 \\pm 5.948743003401658\n"
     ]
    }
   ],
   "source": [
    "data = get_abcd(\"/data/userdata/aaarora/output/run2/data_MVA.root\")"
   ]
  },
  {
   "cell_type": "markdown",
   "metadata": {},
   "source": [
    "# SIG"
   ]
  },
  {
   "cell_type": "code",
   "execution_count": null,
   "metadata": {},
   "outputs": [],
   "source": [
    "sig = get_abcd(\"/data/userdata/aaarora/output/run2/ABCDNet_simpleDisco_VBSVVH1lep_30/output/sig_MVA_abcdnet.root\")"
   ]
  },
  {
   "cell_type": "markdown",
   "metadata": {},
   "source": [
    "# BKG"
   ]
  },
  {
   "cell_type": "code",
   "execution_count": null,
   "metadata": {},
   "outputs": [],
   "source": [
    "bkg = get_abcd(\"/data/userdata/aaarora/output/run2/ABCDNet_simpleDisco_VBSVVH1lep_30/output/bkg_MVA_abcdnet.root\")"
   ]
  },
  {
   "cell_type": "code",
   "execution_count": null,
   "metadata": {},
   "outputs": [],
   "source": [
    "import uproot\n",
    "import numpy as np\n",
    "import matplotlib.pyplot as plt\n",
    "import mplhep as hep\n",
    "hep.style.use(hep.style.CMS)\n",
    "import hist\n",
    "\n",
    "def get_abcd_scan(file, tree=\"Events\"):\n",
    "    with uproot.open(file) as f:\n",
    "        df = f.get(tree).arrays(library=\"pd\")\n",
    "\n",
    "    BDT_CUT = 0.56\n",
    "    DNN_CUT = 0.92\n",
    "\n",
    "    df = df.query(\"VBSBDTscore < @BDT_CUT & abcdnet_score < @DNN_CUT\")\n",
    "\n",
    "    errs = []\n",
    "\n",
    "    N_SCAN = 50\n",
    "\n",
    "    for dnn_cut in np.linspace(0, DNN_CUT, N_SCAN):\n",
    "        for bdt_cut in np.linspace(0, BDT_CUT, N_SCAN):\n",
    "            a = df.query(\"VBSBDTscore > @bdt_cut & abcdnet_score > @dnn_cut\").weight.sum()\n",
    "            b = df.query(\"VBSBDTscore > @bdt_cut & abcdnet_score < @dnn_cut\").weight.sum()\n",
    "            c = df.query(\"VBSBDTscore < @bdt_cut & abcdnet_score > @dnn_cut\").weight.sum()\n",
    "            d = df.query(\"VBSBDTscore < @bdt_cut & abcdnet_score < @dnn_cut\").weight.sum()\n",
    "\n",
    "            if d == 0:\n",
    "                continue\n",
    "            \n",
    "            pred_a = b * c / d\n",
    "\n",
    "            if a == 0 or pred_a == 0:\n",
    "                continue\n",
    "\n",
    "            errs.append(2*(a-pred_a)/(a+pred_a))\n",
    "\n",
    "    return errs\n",
    "\n",
    "errs = get_abcd_scan(\"/data/userdata/aaarora/output/run2/ABCDNet_simpleDisco_VBSVVH1lep_30/output/data_MVA_abcdnet.root\")\n",
    "\n",
    "h = hist.Hist.new.Reg(50, -1.5, 1, name=\"err\").Double()\n",
    "h.fill(errs)\n",
    "\n",
    "fig, ax = plt.subplots()\n",
    "hep.histplot(h, histtype=\"fill\", ax=ax)\n",
    "ax.set_xlabel(\"Error\")\n",
    "ax.set_ylabel(\"Events\")\n",
    "\n",
    "# add box with mean and std\n",
    "mean = np.mean(errs)\n",
    "std = np.std(errs)\n",
    "\n",
    "ax.text(0.5, max(h.counts())-5, f\"Mean: {mean:.2f}\\nStd: {std:.2f}\")"
   ]
  },
  {
   "cell_type": "code",
   "execution_count": null,
   "metadata": {},
   "outputs": [],
   "source": []
  }
 ],
 "metadata": {
  "kernelspec": {
   "display_name": "hep",
   "language": "python",
   "name": "python3"
  },
  "language_info": {
   "codemirror_mode": {
    "name": "ipython",
    "version": 3
   },
   "file_extension": ".py",
   "mimetype": "text/x-python",
   "name": "python",
   "nbconvert_exporter": "python",
   "pygments_lexer": "ipython3",
   "version": "3.12.4"
  }
 },
 "nbformat": 4,
 "nbformat_minor": 2
}
