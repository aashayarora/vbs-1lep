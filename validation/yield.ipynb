{
 "cells": [
  {
   "cell_type": "markdown",
   "metadata": {},
   "source": [
    "# ABCD Yields"
   ]
  },
  {
   "cell_type": "code",
   "execution_count": 3,
   "metadata": {},
   "outputs": [],
   "source": [
    "import ROOT as r\n",
    "import pandas as pd\n",
    "import numpy as np"
   ]
  },
  {
   "cell_type": "code",
   "execution_count": 14,
   "metadata": {},
   "outputs": [],
   "source": [
    "def get_abcd(file, BDT_CUT=0.56, DNN_CUT=0.92):\n",
    "    rdf = r.RDataFrame(\"Events\", file)\n",
    "    df = pd.DataFrame(rdf.AsNumpy([\"weight\", \"VBSBDTscore\", \"abcdnet_score\", \"Hbbscore\", \"HighestWjetScore\"]))\n",
    "\n",
    "    df = df.query(\"Hbbscore > 0.5 & HighestWjetScore > 0.7\")\n",
    "\n",
    "    a = df.query(\"VBSBDTscore > @BDT_CUT & abcdnet_score > @DNN_CUT\").weight\n",
    "    b = df.query(\"VBSBDTscore > @BDT_CUT & abcdnet_score < @DNN_CUT\").weight\n",
    "    c = df.query(\"VBSBDTscore < @BDT_CUT & abcdnet_score > @DNN_CUT\").weight\n",
    "    d = df.query(\"VBSBDTscore < @BDT_CUT & abcdnet_score < @DNN_CUT\").weight\n",
    "\n",
    "    err_a = np.sqrt((a**2).sum())\n",
    "    err_b = np.sqrt((b**2).sum())\n",
    "    err_c = np.sqrt((c**2).sum())\n",
    "    err_d = np.sqrt((d**2).sum())\n",
    "\n",
    "    a = a.sum()\n",
    "    b = b.sum()\n",
    "    c = c.sum()\n",
    "    d = d.sum()\n",
    "\n",
    "    if \"data_MVA\" in file:\n",
    "        a = np.array(1)\n",
    "\n",
    "    print(f\"Actual A: {a} \\\\pm {err_a}\")\n",
    "    print(f\"Region B: {b} \\\\pm {err_b}\")\n",
    "    print(f\"Region C: {c} \\\\pm {err_c}\")\n",
    "    print(f\"Region D: {d} \\\\pm {err_d}\")\n",
    "\n",
    "    err_pwhite_a = np.sqrt((err_b * c / d) ** 2 + (err_c * b / d) ** 2 + ((b * c / d**2) * err_d) ** 2)\n",
    "\n",
    "    print(f\"Predicted A: {b * c / d} \\\\pm {err_pwhite_a}\")"
   ]
  },
  {
   "cell_type": "markdown",
   "metadata": {},
   "source": [
    "# Yields"
   ]
  },
  {
   "cell_type": "code",
   "execution_count": 17,
   "metadata": {},
   "outputs": [],
   "source": [
    "cuts = {\n",
    "    \"BDT_CUT\": 0.9,\n",
    "    \"DNN_CUT\": 0.88\n",
    "}"
   ]
  },
  {
   "cell_type": "code",
   "execution_count": 22,
   "metadata": {},
   "outputs": [
    {
     "name": "stdout",
     "output_type": "stream",
     "text": [
      "###### DATA #######\n",
      "Actual A: 1 \\pm 1.0\n",
      "Region B: 75.0 \\pm 8.660254037844387\n",
      "Region C: 29.0 \\pm 5.385164807134504\n",
      "Region D: 998.0 \\pm 31.591137997862628\n",
      "Predicted A: 2.17935871743487 \\pm 0.4815253309236473\n",
      "###### SIG #######\n",
      "Actual A: 4.008916583563946 \\pm 0.026121250747068222\n",
      "Region B: 0.917439074610472 \\pm 0.013804310108913389\n",
      "Region C: 0.8548453812651182 \\pm 0.012684376878089548\n",
      "Region D: 0.42313491642532114 \\pm 0.009442712404493465\n",
      "Predicted A: 1.853471611722502 \\pm 0.05696460880366702\n",
      "###### BKG #######\n",
      "Actual A: 1.8839609718510455 \\pm 0.39070884589657756\n",
      "Region B: 71.35323669488197 \\pm 3.6031327900855388\n",
      "Region C: 25.288997187074596 \\pm 2.146817255646129\n",
      "Region D: 945.3695745387407 \\pm 10.558591916674988\n",
      "Predicted A: 1.9087263337684162 \\pm 0.18973586603674344\n"
     ]
    }
   ],
   "source": [
    "print(\"###### DATA #######\")\n",
    "data = get_abcd(\"/data/userdata/aaarora/output/run2/data_MVA.root\", **cuts)\n",
    "\n",
    "print(\"###### SIG #######\")\n",
    "sig = get_abcd(\"/data/userdata/aaarora/output/run2/sig_MVA.root\", **cuts)\n",
    "\n",
    "print(\"###### BKG #######\")\n",
    "bkg = get_abcd(\"/data/userdata/aaarora/output/run2/bkg_MVA.root\", **cuts)"
   ]
  },
  {
   "cell_type": "code",
   "execution_count": 19,
   "metadata": {},
   "outputs": [],
   "source": [
    "sign = lambda s, b_a:  np.sqrt(2 * ((s + b_a) * np.log(1 + s / b_a) - s))"
   ]
  },
  {
   "cell_type": "code",
   "execution_count": 23,
   "metadata": {},
   "outputs": [
    {
     "data": {
      "text/plain": [
       "2.2573998535935083"
      ]
     },
     "execution_count": 23,
     "metadata": {},
     "output_type": "execute_result"
    }
   ],
   "source": [
    "sign(3.651707521299207, 1.6393447198915654)"
   ]
  },
  {
   "cell_type": "code",
   "execution_count": null,
   "metadata": {},
   "outputs": [],
   "source": []
  }
 ],
 "metadata": {
  "kernelspec": {
   "display_name": "hep",
   "language": "python",
   "name": "python3"
  },
  "language_info": {
   "codemirror_mode": {
    "name": "ipython",
    "version": 3
   },
   "file_extension": ".py",
   "mimetype": "text/x-python",
   "name": "python",
   "nbconvert_exporter": "python",
   "pygments_lexer": "ipython3",
   "version": "3.12.4"
  }
 },
 "nbformat": 4,
 "nbformat_minor": 2
}
