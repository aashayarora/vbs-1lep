{
 "cells": [
  {
   "cell_type": "markdown",
   "metadata": {},
   "source": [
    "# ABCD Yields"
   ]
  },
  {
   "cell_type": "code",
   "execution_count": 1,
   "metadata": {},
   "outputs": [],
   "source": [
    "import uproot\n",
    "import numpy as np"
   ]
  },
  {
   "cell_type": "code",
   "execution_count": 2,
   "metadata": {},
   "outputs": [],
   "source": [
    "def get_abcd(file, tree=\"Events\"):\n",
    "    with uproot.open(file) as f:\n",
    "        df = f.get(tree).arrays(library=\"pd\")\n",
    "\n",
    "    BDT_CUT = 0.56\n",
    "    DNN_CUT = 0.92\n",
    "\n",
    "    a = df.query(\"VBSBDTscore > @BDT_CUT & abcdnet_score > @DNN_CUT\").weight\n",
    "    b = df.query(\"VBSBDTscore > @BDT_CUT & abcdnet_score < @DNN_CUT\").weight\n",
    "    c = df.query(\"VBSBDTscore < @BDT_CUT & abcdnet_score > @DNN_CUT\").weight\n",
    "    d = df.query(\"VBSBDTscore < @BDT_CUT & abcdnet_score < @DNN_CUT\").weight\n",
    "\n",
    "    err_a = np.sqrt((a**2).sum())\n",
    "    err_b = np.sqrt((b**2).sum())\n",
    "    err_c = np.sqrt((c**2).sum())\n",
    "    err_d = np.sqrt((d**2).sum())\n",
    "\n",
    "    a = a.sum()\n",
    "    b = b.sum()\n",
    "    c = c.sum()\n",
    "    d = d.sum()\n",
    "\n",
    "    if \"data_MVA\" in file:\n",
    "        a = np.array(1)\n",
    "\n",
    "    print(f\"Actual A: {a} \\\\pm {err_a}\")\n",
    "    print(f\"Region B: {b} \\\\pm {err_b}\")\n",
    "    print(f\"Region C: {c} \\\\pm {err_c}\")\n",
    "    print(f\"Region D: {d} \\\\pm {err_d}\")\n",
    "\n",
    "    err_pwhite_a = np.sqrt((err_b * c / d) ** 2 + (err_c * b / d) ** 2 + ((b * c / d**2) * err_d) ** 2)\n",
    "\n",
    "    print(f\"Pwhiteicted A: {b * c / d} \\\\pm {err_pwhite_a}\")\n",
    "\n",
    "    return a, b, c, d"
   ]
  },
  {
   "cell_type": "markdown",
   "metadata": {},
   "source": [
    "# DATA"
   ]
  },
  {
   "cell_type": "code",
   "execution_count": 6,
   "metadata": {},
   "outputs": [
    {
     "name": "stdout",
     "output_type": "stream",
     "text": [
      "Actual A: 1 \\pm 1.0\n",
      "Region B: 78 \\pm 8.831760866327848\n",
      "Region C: 11 \\pm 3.3166247903554\n",
      "Region D: 1013 \\pm 31.827660925679098\n",
      "Pwhiteicted A: 0.8469891411648569 \\pm 0.27408543816219094\n"
     ]
    }
   ],
   "source": [
    "data = get_abcd(\"/data/userdata/aaarora/output/run2/ABCDNet_simpleDisco_VBSVVH1lep_30/output/data_MVA_abcdnet.root\")"
   ]
  },
  {
   "cell_type": "code",
   "execution_count": 5,
   "metadata": {},
   "outputs": [],
   "source": [
    "# data_cr = get_abcd(\"/data/userdata/aaarora/output/run2/ABCDNet_simpleDisco_VBSVVH1lep_30/output/data_cr_MVA_abcdnet.root\")"
   ]
  },
  {
   "cell_type": "markdown",
   "metadata": {},
   "source": [
    "# SIG"
   ]
  },
  {
   "cell_type": "code",
   "execution_count": 5,
   "metadata": {},
   "outputs": [
    {
     "name": "stdout",
     "output_type": "stream",
     "text": [
      "Actual A: 3.649644514486815 \\pm 0.024804235321476836\n",
      "Region B: 1.1669645045497479 \\pm 0.015327038491427433\n",
      "Region C: 0.8576082614250315 \\pm 0.012539124595612626\n",
      "Region D: 0.530118675403263 \\pm 0.010748911949051093\n",
      "Pwhiteicted A: 1.8878761423191175 \\pm 0.05331079623142771\n"
     ]
    }
   ],
   "source": [
    "data = get_abcd(\"/data/userdata/aaarora/output/run2/ABCDNet_simpleDisco_VBSVVH1lep_30/output/sig_MVA_abcdnet.root\")"
   ]
  },
  {
   "cell_type": "markdown",
   "metadata": {},
   "source": [
    "# BKG"
   ]
  },
  {
   "cell_type": "code",
   "execution_count": 4,
   "metadata": {},
   "outputs": [
    {
     "name": "stdout",
     "output_type": "stream",
     "text": [
      "Actual A: 1.5963017523921363 \\pm 0.37514271664311294\n",
      "Region B: 74.8811095308275 \\pm 3.7271667062319263\n",
      "Region C: 17.97963009291327 \\pm 1.7927155097813001\n",
      "Region D: 987.8551083593767 \\pm 11.191316135724286\n",
      "Pwhiteicted A: 1.3628867623584844 \\pm 0.15266494197933148\n"
     ]
    }
   ],
   "source": [
    "data = get_abcd(\"/data/userdata/aaarora/output/run2/ABCDNet_simpleDisco_VBSVVH1lep_30/output/bkg_MVA_abcdnet.root\")"
   ]
  },
  {
   "cell_type": "code",
   "execution_count": null,
   "metadata": {},
   "outputs": [],
   "source": []
  }
 ],
 "metadata": {
  "kernelspec": {
   "display_name": "hep",
   "language": "python",
   "name": "python3"
  },
  "language_info": {
   "codemirror_mode": {
    "name": "ipython",
    "version": 3
   },
   "file_extension": ".py",
   "mimetype": "text/x-python",
   "name": "python",
   "nbconvert_exporter": "python",
   "pygments_lexer": "ipython3",
   "version": "3.12.4"
  }
 },
 "nbformat": 4,
 "nbformat_minor": 2
}
